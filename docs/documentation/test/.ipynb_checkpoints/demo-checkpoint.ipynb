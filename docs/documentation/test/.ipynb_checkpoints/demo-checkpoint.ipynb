{
 "cells": [
  {
   "cell_type": "markdown",
   "metadata": {},
   "source": [
    "# DEMO nærings API"
   ]
  },
  {
   "cell_type": "markdown",
   "metadata": {},
   "source": [
    "Denne demoen er ment for å vise hvordan flyten for et sluttbrukersystem kan hente et utkast, gjøre endringer, validere/kontrollere det mot Skatteetatens apier, for å sende det inn via Altinn3"
   ]
  },
  {
   "cell_type": "code",
   "execution_count": null,
   "metadata": {},
   "outputs": [],
   "source": [
    "# eksterne avhengigheter\n",
    "!pip install python-jose[cryptography] cryptography"
   ]
  },
  {
   "cell_type": "code",
   "execution_count": null,
   "metadata": {},
   "outputs": [],
   "source": [
    "from altinn3 import *\n",
    "from hent import main_relay, base64_decode_response, decode_dokument\n",
    "\n",
    "from http.server import BaseHTTPRequestHandler, HTTPServer\n",
    "import webbrowser\n",
    "from jose import jwt\n",
    "\n",
    "import requests\n",
    "import base64\n",
    "from base64 import urlsafe_b64encode, urlsafe_b64decode\n",
    "from urllib.parse import urlparse, parse_qs, quote\n",
    "from hashlib import sha256\n",
    "\n",
    "import random\n",
    "import time\n",
    "import xmltodict\n",
    "import xml.dom.minidom"
   ]
  },
  {
   "cell_type": "markdown",
   "metadata": {},
   "source": [
    "## Generer ID-porten token\n",
    "Tokenet er gyldig i 300 sekunder, rekjørt denne biten om du ikke har kommet frem til Altinn3 biten før 300 sekunder "
   ]
  },
  {
   "cell_type": "code",
   "execution_count": 2,
   "metadata": {},
   "outputs": [
    {
     "name": "stdout",
     "output_type": "stream",
     "text": [
      "https://oidc-ver2.difi.no/idporten-oidc-provider/authorize?scope=openid&acr_values=Level3&client_id=38e634d9-5682-44ae-9b60-db636efe3156&redirect_uri=http%3A%2F%2Flocalhost%3A12345%2Ftoken&response_type=code&state=NwTWmcm9LnMlHI3fMLGCtQ&nonce=1600153835321653&resource=https%3A%2F%2Fmp-test.sits.no%2Fapi%2Feksterntapi%2Fformueinntekt%2Fskattemelding%2F&code_challenge=F3PLb4gT0ICnEqLUvoOMGMEeS5EbQZw1UrWvecCHShE=&code_challenge_method=S256&ui_locales=nb\n"
     ]
    },
    {
     "name": "stderr",
     "output_type": "stream",
     "text": [
      "127.0.0.1 - - [15/Sep/2020 09:10:55] \"GET /token?code=CSLm7EIp1iwQR6GDmPnXeuiNVH9KHn3DiH_W4Xwwe2s&state=NwTWmcm9LnMlHI3fMLGCtQ HTTP/1.1\" 200 -\n"
     ]
    },
    {
     "name": "stdout",
     "output_type": "stream",
     "text": [
      "Authorization token received\n",
      "The token is good, expires in 300 seconds\n",
      "\n",
      "Bearer eyJraWQiOiJjWmswME1rbTVIQzRnN3Z0NmNwUDVGSFpMS0pzdzhmQkFJdUZiUzRSVEQ0IiwiYWxnIjoiUlMyNTYifQ.eyJzdWIiOiJFaWlQSTBqSnhEZkVOcnBwU1JpT25ZM0hFRlR3RHZORlk4YmFVMl9TUHVFPSIsImlzcyI6Imh0dHBzOlwvXC9vaWRjLXZlcjIuZGlmaS5ub1wvaWRwb3J0ZW4tb2lkYy1wcm92aWRlclwvIiwiY2xpZW50X2FtciI6Im5vbmUiLCJwaWQiOiIyOTExNDUwMTMxOCIsInRva2VuX3R5cGUiOiJCZWFyZXIiLCJjbGllbnRfaWQiOiIzOGU2MzRkOS01NjgyLTQ0YWUtOWI2MC1kYjYzNmVmZTMxNTYiLCJhdWQiOiJodHRwczpcL1wvbXAtdGVzdC5zaXRzLm5vXC9hcGlcL2Vrc3Rlcm50YXBpXC9mb3JtdWVpbm50ZWt0XC9za2F0dGVtZWxkaW5nXC8iLCJhY3IiOiJMZXZlbDMiLCJzY29wZSI6Im9wZW5pZCIsImV4cCI6MTYwMDE1NDE1NSwiaWF0IjoxNjAwMTUzODU1LCJjbGllbnRfb3Jnbm8iOiI5NzQ3NjEwNzYiLCJqdGkiOiJhVm1aSVh4NUM5SllKQ25ER3dCMFJ6OUNJU2ZLd2JzTWdqTEtNMzc3RG84IiwiY29uc3VtZXIiOnsiYXV0aG9yaXR5IjoiaXNvNjUyMy1hY3RvcmlkLXVwaXMiLCJJRCI6IjAxOTI6OTc0NzYxMDc2In19.PREcONKfcYII8woOamHnpfJxeMU2N4uUb9spvjFfZZ_LpNfY5EljsEG6j2a7VRUbp2OmS9WYbFQIOF79p7V_SnXeY00V4WeMka-JoJ_CESI_9l4qagkQYBS0PnYCcYrfXZR-3Fw0dn22q5niui_KF12dvn-aM2rBxPYDSR2rfQSF4RQWKi_ITPCFsEkYHlgv40GUVST5Vw84U0xSmpjR4Rk7n3H4ACCiw7Pq89iYvZUNHvYywkTTj4pKcRsM2Aww3S7fvanunM6WO3WS7OAc1vGcXTtTVDX6kplhi8dzxBBTeU8DlfpOEdH5PAEyFusMECje6SUuikz_Rm_xYcKLWw\n"
     ]
    }
   ],
   "source": [
    "idporten_header = main_relay()"
   ]
  },
  {
   "cell_type": "markdown",
   "metadata": {},
   "source": [
    "# Hent utkast og gjeldende\n",
    "Her legger vi inn fødselsnummeret vi logget oss inn med, Dersom du velger et annet fødselsnummer så må den du logget på med ha tilgang til skattemeldingen du ønsker å hente\n",
    "\n",
    "#### Parten nedenfor er brukt for internt test, pass på bruk deres egne testparter når dere tester\n",
    "\n",
    "29114501318 har fått en myndighetsfastsetting"
   ]
  },
  {
   "cell_type": "code",
   "execution_count": 3,
   "metadata": {
    "pycharm": {
     "name": "#%%\n"
    }
   },
   "outputs": [],
   "source": [
    "s = requests.Session()\n",
    "s.headers = dict(idporten_header)\n",
    "fnr=\"29114501318\" #oppdater med test fødselsnummerene du har fått tildelt"
   ]
  },
  {
   "cell_type": "markdown",
   "metadata": {},
   "source": [
    "### Utkast"
   ]
  },
  {
   "cell_type": "code",
   "execution_count": 4,
   "metadata": {},
   "outputs": [
    {
     "data": {
      "text/plain": [
       "<Response [200]>"
      ]
     },
     "execution_count": 4,
     "metadata": {},
     "output_type": "execute_result"
    }
   ],
   "source": [
    "url_utkast = f'https://mp-test.sits.no/api/eksterntapi/formueinntekt/skattemelding/utkast/2020/{fnr}'\n",
    "r = s.get(url_utkast)\n",
    "r"
   ]
  },
  {
   "cell_type": "markdown",
   "metadata": {},
   "source": [
    "### Gjeldende"
   ]
  },
  {
   "cell_type": "code",
   "execution_count": 5,
   "metadata": {},
   "outputs": [
    {
     "data": {
      "text/plain": [
       "<Response [200]>"
      ]
     },
     "execution_count": 5,
     "metadata": {},
     "output_type": "execute_result"
    }
   ],
   "source": [
    "url_gjeldende = f'https://mp-test.sits.no/api/eksterntapi/formueinntekt/skattemelding/2020/{fnr}'\n",
    "r_gjeldende = s.get(url_gjeldende)\n",
    "r_gjeldende"
   ]
  },
  {
   "cell_type": "markdown",
   "metadata": {},
   "source": [
    "### Fastsatt"
   ]
  },
  {
   "cell_type": "code",
   "execution_count": 7,
   "metadata": {},
   "outputs": [
    {
     "data": {
      "text/plain": [
       "<Response [400]>"
      ]
     },
     "execution_count": 7,
     "metadata": {},
     "output_type": "execute_result"
    }
   ],
   "source": [
    "url_fastsatt = f'https://mp-test.sits.no/api/eksterntapi/formueinntekt/skattemelding/fastsatt/2020/{fnr}'\n",
    "r_fastsatt = s.get(url_fastsatt)\n",
    "r_fastsatt"
   ]
  },
  {
   "cell_type": "markdown",
   "metadata": {
    "pycharm": {
     "name": "#%% md\n"
    }
   },
   "source": [
    "## Svar fra hent gjeldende (utkast)\n",
    "Legg merke til nytt element som viser en id for gjeldende skattemelding"
   ]
  },
  {
   "cell_type": "code",
   "execution_count": null,
   "metadata": {
    "pycharm": {
     "name": "#%%\n"
    }
   },
   "outputs": [],
   "source": [
    "sjekk_svar = r_gjeldende\n",
    "\n",
    "sme_og_naering_respons = xmltodict.parse(sjekk_svar.text)\n",
    "skattemelding_base64 = sme_og_naering_respons[\"skattemeldingerOgNaeringsopplysningerforespoerselResponse\"][\"dokumenter\"][\"skattemeldingdokument\"]\n",
    "sme_utkast_base64 = skattemelding_base64[\"content\"]\n",
    "dokref = sme_og_naering_respons[\"skattemeldingerOgNaeringsopplysningerforespoerselResponse\"][\"dokumenter\"]['skattemeldingdokument']['id']\n",
    "\n",
    "decoded_xml = decode_dokument(skattemelding_base64)\n",
    "sme_utkast = xml.dom.minidom.parseString(decoded_xml[\"content\"]).toprettyxml()\n",
    "print(xml.dom.minidom.parseString(sjekk_svar.text).toprettyxml())"
   ]
  },
  {
   "cell_type": "markdown",
   "metadata": {
    "pycharm": {
     "name": "#%% md\n"
    }
   },
   "source": [
    "#### I responsen er skattemeldingdokument Base64 encodet, kjør cellen nedenfor for å se det decodet"
   ]
  },
  {
   "cell_type": "code",
   "execution_count": null,
   "metadata": {
    "pycharm": {
     "name": "#%%\n"
    }
   },
   "outputs": [],
   "source": [
    "print(\"*\"*10+\"\\tBase64 decoded\\n\")\n",
    "print(sme_utkast)"
   ]
  },
  {
   "cell_type": "markdown",
   "metadata": {
    "pycharm": {
     "name": "#%% md\n"
    }
   },
   "source": [
    "## Se skattemeldingen i SME \n",
    "https://skatt-ref.sits.no/web/skattemeldingen/2020\n",
    "\n",
    "# Oppdater skattemeldingen og næringsmeldingen\n",
    "### Oppdater Skattemeldingen\n",
    "Som dere ser fra skattemeldingen, mangler kjøretøyet pris som ny. Nedenfor har dere xml elementet som mangler for kjøretøy som ny"
   ]
  },
  {
   "cell_type": "code",
   "execution_count": null,
   "metadata": {
    "pycharm": {
     "name": "#%%\n"
    }
   },
   "outputs": [],
   "source": [
    "listepris_som_ny = \"\"\"\n",
    "      <antattVerdiSomNyttKjoeretoey>\n",
    "        <beloep>\n",
    "          <beloepINok>\n",
    "            <beloepSomHeltall>12345</beloepSomHeltall>\n",
    "          </beloepINok>\n",
    "          <beloepIValuta>\n",
    "            <beloep>12345</beloep>\n",
    "          </beloepIValuta>\n",
    "          <valutakode>\n",
    "            <valutakode>NOK</valutakode>\n",
    "          </valutakode>\n",
    "          <valutakurs>\n",
    "            <valutakurs>1</valutakurs>\n",
    "          </valutakurs>\n",
    "        </beloep>\n",
    "      </antattVerdiSomNyttKjoeretoey>\"\"\"\n",
    "\n",
    "sme_xml = \"\"\"\n",
    "<?xml version=\"1.0\" ?>\n",
    "<skattemelding xmlns=\"urn:no:skatteetaten:fastsetting:formueinntekt:skattemelding:ekstern:v8\">\n",
    "\t<partsreferanse>22257666</partsreferanse>\n",
    "\t<inntektsaar>2020</inntektsaar>\n",
    "\t<boligOgEiendeler>\n",
    "\t\t<kjoeretoey>\n",
    "\t\t\t<id>105f0ea50109de48fb456368f36c2243c97a8898</id>\n",
    "\t\t\t<kjennemerke>\n",
    "\t\t\t\t<tekst>313</tekst>\n",
    "\t\t\t</kjennemerke>\n",
    "\t\t\t<aarForFoerstegangsregistrering>\n",
    "\t\t\t\t<aarstall>1999</aarstall>\n",
    "\t\t\t</aarForFoerstegangsregistrering>\n",
    "            {listepris_som_ny}\n",
    "\t\t\t<formuesverdiForKjoeretoey>\n",
    "\t\t\t\t<beloep>\n",
    "\t\t\t\t\t<beloepSomHeltall>1000</beloepSomHeltall>\n",
    "\t\t\t\t</beloep>\n",
    "\t\t\t</formuesverdiForKjoeretoey>\n",
    "\t\t</kjoeretoey>\n",
    "\t</boligOgEiendeler>\n",
    "\t<skattemeldingOpprettet>\n",
    "\t\t<brukeridentifikator>ikke-implementert</brukeridentifikator>\n",
    "\t\t<brukeridentifikatortype>systemidentifikator</brukeridentifikatortype>\n",
    "\t\t<opprettetDato>2020-09-14T13:40:01.328641Z</opprettetDato>\n",
    "\t</skattemeldingOpprettet>\n",
    "</skattemelding>\n",
    "\n",
    "\"\"\".format(listepris_som_ny=listepris_som_ny)\n",
    "\n",
    "sme_xml = sme_xml.replace('\\t','').replace('\\n','')\n",
    "sme_xml_fix_base64 = base64.b64encode(sme_xml.encode(\"utf-8\"))\n",
    "sme_xml_fix_base64 = str(sme_xml_fix_base64.decode(\"utf-8\"))"
   ]
  },
  {
   "cell_type": "markdown",
   "metadata": {
    "pycharm": {
     "name": "#%% md\n"
    }
   },
   "source": [
    "## Næring xml\n",
    "Her lager vi to nærings xml, en med en feil beløp i sumDriftsinntekt og en der dette er rettet"
   ]
  },
  {
   "cell_type": "code",
   "execution_count": null,
   "metadata": {
    "pycharm": {
     "name": "#%%\n"
    }
   },
   "outputs": [],
   "source": [
    "sumDriftsinntekt_korrekt = \"417\"\n",
    "sumDriftsinntekt_feil = \"42\"\n",
    "naering_xml = \"\"\"\n",
    "<naeringsopplysninger xmlns=\"urn:no:skatteetaten:fastsetting:formueinntekt:naeringsopplysninger:ekstern:v1\">\n",
    "    <partsreferanse>22257666</partsreferanse>\n",
    "    <inntektsaar>2020</inntektsaar>\n",
    "    <resultatregnskap>\n",
    "        <driftsinntekt>\n",
    "            <salgsinntekt>\n",
    "                <id>1</id>\n",
    "                <salgsinntektstype>\n",
    "                    <salgsinntektstype>4560</salgsinntektstype>\n",
    "                </salgsinntektstype>\n",
    "                <beloep>\n",
    "                    <beloep>\n",
    "                        <beloep>100</beloep>\n",
    "                    </beloep>\n",
    "                </beloep>\n",
    "            </salgsinntekt>\n",
    "            <salgsinntekt>\n",
    "                <id>2</id>\n",
    "                <salgsinntektstype>\n",
    "                    <salgsinntektstype>4560</salgsinntektstype>\n",
    "                </salgsinntektstype>\n",
    "                <beloep>\n",
    "                    <beloep>\n",
    "                        <beloep>17</beloep>\n",
    "                    </beloep>\n",
    "                </beloep>\n",
    "            </salgsinntekt>\n",
    "            <annenDriftsinntekt>\n",
    "                <id>1</id>\n",
    "                <annenDriftsinntektstype>\n",
    "                    <annenDriftsinntektstype>100</annenDriftsinntektstype>\n",
    "                </annenDriftsinntektstype>\n",
    "                <beloep>\n",
    "                    <beloep>\n",
    "                        <beloep>100</beloep>\n",
    "                    </beloep>\n",
    "                </beloep>\n",
    "            </annenDriftsinntekt>\n",
    "            <annenDriftsinntekt>\n",
    "                <id>2</id>\n",
    "                <annenDriftsinntektstype>\n",
    "                    <annenDriftsinntektstype>200</annenDriftsinntektstype>\n",
    "                </annenDriftsinntektstype>\n",
    "                <beloep>\n",
    "                    <beloep>\n",
    "                        <beloep>217</beloep>\n",
    "                    </beloep>\n",
    "                </beloep>\n",
    "            </annenDriftsinntekt>\n",
    "            <annenDriftsinntekt>\n",
    "                <id>3</id>\n",
    "                <annenDriftsinntektstype>\n",
    "                    <annenDriftsinntektstype>700</annenDriftsinntektstype>\n",
    "                </annenDriftsinntektstype>\n",
    "                <beloep>\n",
    "                    <beloep>\n",
    "                        <beloep>-17</beloep>\n",
    "                    </beloep>\n",
    "                </beloep>\n",
    "            </annenDriftsinntekt>\n",
    "            <sumDriftsinntekt>\n",
    "                <beloep>\n",
    "                    <beloep>{sumBelop}</beloep>\n",
    "                </beloep>\n",
    "            </sumDriftsinntekt>\n",
    "        </driftsinntekt>\n",
    "        <sumEkstraordinaerPost>\n",
    "            <beloep>\n",
    "                <beloep>0</beloep>\n",
    "            </beloep>\n",
    "        </sumEkstraordinaerPost>\n",
    "        <sumSkattekostnad>\n",
    "            <beloep>\n",
    "                <beloep>0</beloep>\n",
    "            </beloep>\n",
    "        </sumSkattekostnad>\n",
    "        <aarsresultat>\n",
    "            <beloep>\n",
    "                <beloep>417</beloep>\n",
    "            </beloep>\n",
    "        </aarsresultat>\n",
    "    </resultatregnskap>\n",
    "    \n",
    "   <virksomhet>\n",
    "        <regnskapspliktstype>\n",
    "            <regnskapspliktstype>1</regnskapspliktstype>\n",
    "        </regnskapspliktstype>\n",
    "        <selskapstype>\n",
    "            <selskapstype>aksjeselskap</selskapstype>\n",
    "        </selskapstype>\n",
    "    </virksomhet>\n",
    "    \n",
    "</naeringsopplysninger>\n",
    "\"\"\"\n",
    "naeringsopplysninger_base64_feil = base64.b64encode(naering_xml.format(sumBelop=sumDriftsinntekt_feil).encode(\"utf-8\"))\n",
    "naeringsopplysninger_base64_feil = str(naeringsopplysninger_base64_feil.decode(\"utf-8\"))\n",
    "\n",
    "naeringsopplysninger_korrekt = naering_xml.format(sumBelop=sumDriftsinntekt_korrekt)\n",
    "\n",
    "naeringsopplysninger_base64_korrekt = base64.b64encode(naeringsopplysninger_korrekt.encode(\"utf-8\"))\n",
    "naeringsopplysninger_base64_korrekt = str(naeringsopplysninger_base64_korrekt.decode(\"utf-8\"))"
   ]
  },
  {
   "cell_type": "code",
   "execution_count": null,
   "metadata": {},
   "outputs": [],
   "source": [
    "valider_konvolutt = \"\"\"\n",
    "<skattemeldingerOgNaeringsopplysningerRequest xmlns=\"no:skatteetaten:fastsetting:formueinntekt:skattemeldingerognaeringsopplysninger:request:v1\">\n",
    "<dokumenter>\n",
    "    <dokument>\n",
    "        <type>skattemeldingPersonligSkattepliktig</type>\n",
    "        <encoding>utf-8</encoding>\n",
    "        <content>{skattemeldingPersonligSkattepliktig_base64}</content>\n",
    "    </dokument>\n",
    "    <dokument>\n",
    "        <type>naeringsopplysninger</type>\n",
    "        <encoding>utf-8</encoding>\n",
    "        <content>{naeringsopplysninger_base64}</content>\n",
    "    </dokument>\n",
    "</dokumenter>\n",
    "<dokumentreferanseTilGjeldendeDokument>\n",
    "        <dokumenttype>skattemeldingPersonligSkattepliktig</dokumenttype>\n",
    "        <dokumentidentifikator>{dok_ref}</dokumentidentifikator>\n",
    "    </dokumentreferanseTilGjeldendeDokument>\n",
    "</skattemeldingerOgNaeringsopplysningerRequest>\n",
    "\"\"\".replace(\"\\n\",\"\")\n"
   ]
  },
  {
   "cell_type": "code",
   "execution_count": null,
   "metadata": {},
   "outputs": [],
   "source": [
    "valider_payload_utkast = valider_konvolutt.format(\n",
    "    skattemeldingPersonligSkattepliktig_base64=sme_utkast_base64,\n",
    "    naeringsopplysninger_base64=str(naeringsopplysninger_base64_feil),\n",
    "    dok_ref=dokref)\n",
    "\n",
    "valider_payload_fix = valider_konvolutt.format(\n",
    "    skattemeldingPersonligSkattepliktig_base64=sme_xml_fix_base64,\n",
    "    naeringsopplysninger_base64=naeringsopplysninger_base64_korrekt,\n",
    "    dok_ref=dokref)"
   ]
  },
  {
   "cell_type": "code",
   "execution_count": null,
   "metadata": {},
   "outputs": [],
   "source": [
    "def valider_sme(payload):\n",
    "    url_valider = f'https://mp-test.sits.no/api/eksterntapi/formueinntekt/skattemelding/valider/2020/{fnr}'\n",
    "    header = dict(idporten_header)\n",
    "    header[\"content-type\"] = \"application/xml\"\n",
    "    return s.post(url_valider, headers=header, data=payload)\n",
    "    \n"
   ]
  },
  {
   "cell_type": "markdown",
   "metadata": {
    "pycharm": {
     "name": "#%% md\n"
    }
   },
   "source": [
    "# Valider utkast sme med næringsopplysninger med feil sum"
   ]
  },
  {
   "cell_type": "code",
   "execution_count": null,
   "metadata": {
    "pycharm": {
     "name": "#%%\n"
    }
   },
   "outputs": [],
   "source": [
    "valider_respons = valider_sme(valider_payload_utkast)\n",
    "valider_respons"
   ]
  },
  {
   "cell_type": "code",
   "execution_count": null,
   "metadata": {},
   "outputs": [],
   "source": [
    "#valider_respons.request.body"
   ]
  },
  {
   "cell_type": "markdown",
   "metadata": {
    "pycharm": {
     "name": "#%% md\n"
    }
   },
   "source": [
    "## Valideringsresultat av utkast og næringsoppgave"
   ]
  },
  {
   "cell_type": "code",
   "execution_count": null,
   "metadata": {
    "pycharm": {
     "name": "#%%\n"
    }
   },
   "outputs": [],
   "source": [
    "print(xml.dom.minidom.parseString(valider_respons.text).toprettyxml())"
   ]
  },
  {
   "cell_type": "markdown",
   "metadata": {
    "pycharm": {
     "name": "#%% md\n"
    }
   },
   "source": [
    "## Vis valideringer i SME \n",
    "En kan åpne skattemeldingen og se de samme valideringsresultatene for skattemeldingen\n",
    "https://skatt-ref.sits.no/web/skattemeldingen/2020"
   ]
  },
  {
   "cell_type": "markdown",
   "metadata": {},
   "source": [
    "## Valider sme med fikset bil og sumpost i næring"
   ]
  },
  {
   "cell_type": "code",
   "execution_count": null,
   "metadata": {
    "pycharm": {
     "name": "#%%\n"
    }
   },
   "outputs": [],
   "source": [
    "valider_respons_fix = valider_sme(valider_payload_fix)\n",
    "valider_respons_fix"
   ]
  },
  {
   "cell_type": "code",
   "execution_count": null,
   "metadata": {},
   "outputs": [],
   "source": [
    "valider_respons_fix.request.body"
   ]
  },
  {
   "cell_type": "code",
   "execution_count": null,
   "metadata": {},
   "outputs": [],
   "source": [
    "#valider_respons_fix.text\n",
    "ppxml = xml.dom.minidom.parseString(valider_respons_fix.text).toprettyxml()\n",
    "start = ppxml.find(\"<avvikEtterBeregning>\")\n",
    "slutt = ppxml.find(\"</avvikEtterBeregning>\")  + len(\"</avvikEtterBeregning>\")\n",
    "#print(ppxml[start:slutt])\n",
    "print(ppxml)"
   ]
  },
  {
   "cell_type": "markdown",
   "metadata": {},
   "source": [
    "# Endre på et myndighetsfastsatt verdi"
   ]
  },
  {
   "cell_type": "code",
   "execution_count": null,
   "metadata": {},
   "outputs": [],
   "source": [
    "#TODO"
   ]
  },
  {
   "cell_type": "markdown",
   "metadata": {
    "pycharm": {
     "name": "#%% md\n"
    }
   },
   "source": [
    "# Altinn 3"
   ]
  },
  {
   "cell_type": "markdown",
   "metadata": {
    "pycharm": {
     "name": "#%% md\n"
    }
   },
   "source": [
    "## 1. Hent Altinn Token"
   ]
  },
  {
   "cell_type": "code",
   "execution_count": null,
   "metadata": {
    "pycharm": {
     "name": "#%%\n"
    }
   },
   "outputs": [],
   "source": [
    "altinn_header = hent_altinn_token(idporten_header)\n",
    "party_id = hent_party_id(altinn_header)"
   ]
  },
  {
   "cell_type": "markdown",
   "metadata": {},
   "source": [
    "## 2. Opprett ny Instans i Altinn3"
   ]
  },
  {
   "cell_type": "code",
   "execution_count": null,
   "metadata": {},
   "outputs": [],
   "source": [
    "instans_data = opprett_ny_instans(altinn_header, party_id)\n",
    "instans_data"
   ]
  },
  {
   "cell_type": "markdown",
   "metadata": {},
   "source": [
    "## Last opp metadata (skattemelding_V1)"
   ]
  },
  {
   "cell_type": "code",
   "execution_count": null,
   "metadata": {},
   "outputs": [],
   "source": [
    "ALTINN_URL = \"https://skd.apps.tt02.altinn.no\""
   ]
  },
  {
   "cell_type": "code",
   "execution_count": null,
   "metadata": {},
   "outputs": [],
   "source": [
    "metadata_xml = \"\"\"\n",
    "<?xml version=\"1.0\" encoding=\"utf-8\"?>\n",
    "<SkattemeldingApp xmlns:xsi=\"http://www.w3.org/2001/XMLSchema-instance\" xmlns:xsd=\"http://www.w3.org/2001/XMLSchema\">\n",
    "    <partsreferanse>str1234</partsreferanse>\n",
    "    <inntektsaar>2020</inntektsaar>\n",
    "    <innsendingstype>Komplett</innsendingstype>\n",
    "    <opprettetAv>TurboSkatt AS..</opprettetAv>\n",
    "    <opprettingstidspunkt>2012-06-03T12:12:12</opprettingstidspunkt>\n",
    "    <endringstidspunkt>2012-06-03T12:12:12</endringstidspunkt>\n",
    "</SkattemeldingApp>\"\"\".replace(\"\\n\",\"\")"
   ]
  },
  {
   "cell_type": "code",
   "execution_count": null,
   "metadata": {
    "pycharm": {
     "name": "#%%\n"
    }
   },
   "outputs": [],
   "source": [
    "req_metadata = last_opp_metadata(instans_data, altinn_header, xml=metadata_xml)\n",
    "req_metadata"
   ]
  },
  {
   "cell_type": "markdown",
   "metadata": {
    "pycharm": {
     "name": "#%% md\n"
    }
   },
   "source": [
    "## Last opp skattemelding"
   ]
  },
  {
   "cell_type": "code",
   "execution_count": null,
   "metadata": {},
   "outputs": [],
   "source": [
    "req_send_inn = last_opp_skattedata(instans_data, altinn_header, xml=naeringsopplysninger_korrekt)\n",
    "req_send_inn"
   ]
  },
  {
   "cell_type": "markdown",
   "metadata": {},
   "source": [
    "### Sett proses til neste steg - Bekreftelse"
   ]
  },
  {
   "cell_type": "code",
   "execution_count": null,
   "metadata": {},
   "outputs": [],
   "source": [
    "req_bekreftelse = endre_prosess_status(instans_data, altinn_header, \"next\")\n",
    "req_bekreftelse"
   ]
  },
  {
   "cell_type": "markdown",
   "metadata": {},
   "source": [
    "### Sett proses til neste steg - Tilbakemelding"
   ]
  },
  {
   "cell_type": "code",
   "execution_count": null,
   "metadata": {},
   "outputs": [],
   "source": [
    "req_bekreftelse = endre_prosess_status(instans_data, altinn_header, \"next\")\n",
    "req_bekreftelse"
   ]
  },
  {
   "cell_type": "markdown",
   "metadata": {},
   "source": [
    "### Se innsending i Altinn\n",
    "\n",
    "Ta en slurk av kaffen og klapp deg selv på ryggen, du har nå sendt inn, la byråkratiet gjøre sin ting... og det tar litt tid"
   ]
  },
  {
   "cell_type": "code",
   "execution_count": null,
   "metadata": {
    "pycharm": {
     "name": "#%%\n"
    }
   },
   "outputs": [],
   "source": [
    "instans_id=instans_data['id']\n",
    "url = f'https://skd.apps.tt02.altinn.no/skd/sirius-skattemelding-v1#/instance/{instans_id}'\n",
    "print(url)"
   ]
  },
  {
   "cell_type": "code",
   "execution_count": null,
   "metadata": {},
   "outputs": [],
   "source": []
  }
 ],
 "metadata": {
  "kernelspec": {
   "display_name": "Python 3",
   "language": "python",
   "name": "python3"
  }
 },
 "nbformat": 4,
 "nbformat_minor": 4
}
