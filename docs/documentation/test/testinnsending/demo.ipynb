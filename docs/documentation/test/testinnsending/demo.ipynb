{
 "cells": [
  {
   "cell_type": "markdown",
   "metadata": {},
   "source": [
    "# DEMO nærings API"
   ]
  },
  {
   "cell_type": "markdown",
   "metadata": {},
   "source": [
    "Denne demoen er ment for å vise hvordan flyten for et sluttbrukersystem kan hente et utkast, gjøre endringer, validere/kontrollere det mot Skatteetatens apier, for å sende det inn via Altinn3"
   ]
  },
  {
   "cell_type": "code",
   "execution_count": null,
   "metadata": {},
   "outputs": [],
   "source": [
    "# eksterne avhengigheter\n",
    "!pip install python-jose[cryptography] cryptography\n",
    "!pip install xmltodict"
   ]
  },
  {
   "cell_type": "code",
   "execution_count": 1,
   "metadata": {},
   "outputs": [],
   "source": [
    "from altinn3 import *\n",
    "from hent import main_relay, base64_decode_response, decode_dokument\n",
    "import requests\n",
    "import base64\n",
    "import xmltodict\n",
    "import xml.dom.minidom"
   ]
  },
  {
   "cell_type": "markdown",
   "metadata": {},
   "source": [
    "## Generer ID-porten token\n",
    "Tokenet er gyldig i 300 sekunder, rekjørt denne biten om du ikke har kommet frem til Altinn3 biten før 300 sekunder "
   ]
  },
  {
   "cell_type": "code",
   "execution_count": 2,
   "metadata": {},
   "outputs": [
    {
     "name": "stdout",
     "output_type": "stream",
     "text": [
      "https://oidc-ver2.difi.no/idporten-oidc-provider/authorize?scope=openid&acr_values=Level3&client_id=38e634d9-5682-44ae-9b60-db636efe3156&redirect_uri=http%3A%2F%2Flocalhost%3A12345%2Ftoken&response_type=code&state=3Q1S4dmpgJmsDIX9rz3jnw&nonce=1603265479155602&resource=https%3A%2F%2Fmp-test.sits.no%2Fapi%2Feksterntapi%2Fformueinntekt%2Fskattemelding%2F&code_challenge=wmluC7C0i7iOLcjxv5vF_lQqxKBQjQ1Wb7blpl4QiUU=&code_challenge_method=S256&ui_locales=nb\n"
     ]
    },
    {
     "name": "stderr",
     "output_type": "stream",
     "text": [
      "127.0.0.1 - - [21/Oct/2020 09:31:38] \"GET /token?code=34ijyTerpgGtQXfBkb10HeQC9eIoiYh6dLMw-AK4JPM&state=3Q1S4dmpgJmsDIX9rz3jnw HTTP/1.1\" 200 -\n"
     ]
    },
    {
     "name": "stdout",
     "output_type": "stream",
     "text": [
      "Authorization token received\n",
      "The token is good, expires in 300 seconds\n",
      "\n",
      "Bearer eyJraWQiOiJjWmswME1rbTVIQzRnN3Z0NmNwUDVGSFpMS0pzdzhmQkFJdUZiUzRSVEQ0IiwiYWxnIjoiUlMyNTYifQ.eyJzdWIiOiJmdnBRZ1d5eFRfeHJZVVR0RFJpS1gySlhHYjVlT2lodG91Skpoa0J0Nnk0PSIsImlzcyI6Imh0dHBzOlwvXC9vaWRjLXZlcjIuZGlmaS5ub1wvaWRwb3J0ZW4tb2lkYy1wcm92aWRlclwvIiwiY2xpZW50X2FtciI6Im5vbmUiLCJwaWQiOiIwNzExNjAwMDczOCIsInRva2VuX3R5cGUiOiJCZWFyZXIiLCJjbGllbnRfaWQiOiIzOGU2MzRkOS01NjgyLTQ0YWUtOWI2MC1kYjYzNmVmZTMxNTYiLCJhdWQiOiJodHRwczpcL1wvbXAtdGVzdC5zaXRzLm5vXC9hcGlcL2Vrc3Rlcm50YXBpXC9mb3JtdWVpbm50ZWt0XC9za2F0dGVtZWxkaW5nXC8iLCJhY3IiOiJMZXZlbDMiLCJzY29wZSI6Im9wZW5pZCIsImV4cCI6MTYwMzI2NTc5OCwiaWF0IjoxNjAzMjY1NDk4LCJjbGllbnRfb3Jnbm8iOiI5NzQ3NjEwNzYiLCJqdGkiOiJUUHNQZmNIeUV4UHVxOXpZV29TMW5WZ2VZYzdhcWZwVWZDaTA4Sm9pazlNIiwiY29uc3VtZXIiOnsiYXV0aG9yaXR5IjoiaXNvNjUyMy1hY3RvcmlkLXVwaXMiLCJJRCI6IjAxOTI6OTc0NzYxMDc2In19.ecF4tzmaaWW8ZEe5hbnDyQmxWo7bflCztQJINts_esT2XifPYJZ6BFBaM4INLGpbY_QTR4GIEhsIm_OZaRk_tFscKhJpqW5bgcAY0pBvpvb6hM1iyc708fD31_iGxf83VBKrN9buI_HfHH6IeQ6tXduZWEc9UgTtscEaLLI9czTWooMAQlR5XGo9QQ1UkeanzSNnTP1qRaVw1aHJLagXF4J91-NNe7raJeuBFxKY_15GZFGxDPR9vX5UbCmUfuZ_uPIdCYxBowDCVNkWXM5pKD_H3wQnubvalmyVEgR9fVyWyO7eXnGLyrUWOqQsg5gy9owQKPCbHtXDEPPOCZvwPg\n"
     ]
    }
   ],
   "source": [
    "idporten_header = main_relay()"
   ]
  },
  {
   "cell_type": "markdown",
   "metadata": {},
   "source": [
    "# Hent utkast og gjeldende\n",
    "Her legger vi inn fødselsnummeret vi logget oss inn med, Dersom du velger et annet fødselsnummer så må den du logget på med ha tilgang til skattemeldingen du ønsker å hente\n",
    "\n",
    "#### Parten nedenfor er brukt for internt test, pass på bruk deres egne testparter når dere tester\n",
    "\n",
    "29114501318 har fått en myndighetsfastsetting"
   ]
  },
  {
   "cell_type": "code",
   "execution_count": 3,
   "metadata": {
    "pycharm": {
     "name": "#%%\n"
    }
   },
   "outputs": [],
   "source": [
    "s = requests.Session()\n",
    "s.headers = dict(idporten_header)\n",
    "fnr=\"07116000738\" #oppdater med test fødselsnummerene du har fått tildelt"
   ]
  },
  {
   "cell_type": "markdown",
   "metadata": {},
   "source": [
    "### Utkast"
   ]
  },
  {
   "cell_type": "code",
   "execution_count": 4,
   "metadata": {},
   "outputs": [
    {
     "data": {
      "text/plain": [
       "<Response [200]>"
      ]
     },
     "execution_count": 4,
     "metadata": {},
     "output_type": "execute_result"
    }
   ],
   "source": [
    "url_utkast = f'https://mp-test.sits.no/api/eksterntapi/formueinntekt/skattemelding/utkast/2020/{fnr}'\n",
    "r = s.get(url_utkast)\n",
    "r"
   ]
  },
  {
   "cell_type": "code",
   "execution_count": 5,
   "metadata": {},
   "outputs": [
    {
     "name": "stdout",
     "output_type": "stream",
     "text": [
      "<skattemeldingerOgNaeringsopplysningerforespoerselResponse xmlns=\"no:skatteetaten:fastsetting:formueinntekt:skattemeldingerognaeringsopplysninger:forespoersel:response:v1\"><dokumenter><skattemeldingdokument><id>SKI:138:8243</id><encoding>utf-8</encoding><content>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</content><type>skattemeldingUtkastPersonligSkattepliktig</type></skattemeldingdokument></dokumenter></skattemeldingerOgNaeringsopplysningerforespoerselResponse>\n"
     ]
    }
   ],
   "source": [
    "print(r.text)"
   ]
  },
  {
   "cell_type": "markdown",
   "metadata": {},
   "source": [
    "### Gjeldende"
   ]
  },
  {
   "cell_type": "code",
   "execution_count": null,
   "metadata": {},
   "outputs": [],
   "source": [
    "url_gjeldende = f'https://mp-test.sits.no/api/eksterntapi/formueinntekt/skattemelding/2020/{fnr}'\n",
    "r_gjeldende = s.get(url_gjeldende)\n",
    "r_gjeldende"
   ]
  },
  {
   "cell_type": "markdown",
   "metadata": {},
   "source": [
    "### Fastsatt\n",
    "Her får en http 400 om vedkommende ikke har noen fastsetting"
   ]
  },
  {
   "cell_type": "code",
   "execution_count": null,
   "metadata": {},
   "outputs": [],
   "source": [
    "url_fastsatt = f'https://mp-test.sits.no/api/eksterntapi/formueinntekt/skattemelding/fastsatt/2020/{fnr}'\n",
    "r_fastsatt = s.get(url_fastsatt)\n",
    "r_fastsatt\n",
    "#r_fastsatt.elapsed.total_seconds()"
   ]
  },
  {
   "cell_type": "markdown",
   "metadata": {
    "pycharm": {
     "name": "#%% md\n"
    }
   },
   "source": [
    "## Svar fra hent gjeldende (utkast)\n",
    "Legg merke til nytt element som viser en id for gjeldende skattemelding"
   ]
  },
  {
   "cell_type": "code",
   "execution_count": null,
   "metadata": {
    "pycharm": {
     "name": "#%%\n"
    }
   },
   "outputs": [],
   "source": [
    "sjekk_svar = r_gjeldende\n",
    "\n",
    "sme_og_naering_respons = xmltodict.parse(sjekk_svar.text)\n",
    "skattemelding_base64 = sme_og_naering_respons[\"skattemeldingerOgNaeringsopplysningerforespoerselResponse\"][\"dokumenter\"][\"skattemeldingdokument\"]\n",
    "sme_utkast_base64 = skattemelding_base64[\"content\"]\n",
    "dokref = sme_og_naering_respons[\"skattemeldingerOgNaeringsopplysningerforespoerselResponse\"][\"dokumenter\"]['skattemeldingdokument']['id']\n",
    "\n",
    "decoded_xml = decode_dokument(skattemelding_base64)\n",
    "sme_utkast = xml.dom.minidom.parseString(decoded_xml[\"content\"]).toprettyxml()\n",
    "print(xml.dom.minidom.parseString(sjekk_svar.text).toprettyxml())"
   ]
  },
  {
   "cell_type": "markdown",
   "metadata": {
    "pycharm": {
     "name": "#%% md\n"
    }
   },
   "source": [
    "#### I responsen er skattemeldingdokument Base64 encodet, kjør cellen nedenfor for å se det decodet"
   ]
  },
  {
   "cell_type": "code",
   "execution_count": null,
   "metadata": {
    "pycharm": {
     "name": "#%%\n"
    }
   },
   "outputs": [],
   "source": [
    "print(\"*\"*10+\"\\tBase64 decoded\")\n",
    "print(sme_utkast)"
   ]
  },
  {
   "cell_type": "markdown",
   "metadata": {
    "pycharm": {
     "name": "#%% md\n"
    }
   },
   "source": [
    "## Se skattemeldingen i SME \n",
    "https://skatt-ref.sits.no/web/skattemeldingen/2020\n",
    "\n",
    "# Oppdater skattemeldingen og næringsmeldingen\n",
    "### Oppdater Skattemeldingen\n",
    "Som dere ser fra skattemeldingen, mangler kjøretøyet pris som ny. Nedenfor har dere xml elementet som mangler for kjøretøy som ny"
   ]
  },
  {
   "cell_type": "code",
   "execution_count": null,
   "metadata": {
    "pycharm": {
     "name": "#%%\n"
    }
   },
   "outputs": [],
   "source": [
    "sme_dict = xmltodict.parse(sme_utkast)\n",
    "\n",
    "pris_som_ny = xmltodict.parse(\"\"\"<antattVerdiSomNyttKjoeretoey>\n",
    "        <beloep>\n",
    "          <beloepINok>\n",
    "            <beloepSomHeltall>12345</beloepSomHeltall>\n",
    "          </beloepINok>\n",
    "          <beloepIValuta>\n",
    "            <beloep>12345</beloep>\n",
    "          </beloepIValuta>\n",
    "          <valutakode>\n",
    "            <valutakode>NOK</valutakode>\n",
    "          </valutakode>\n",
    "          <valutakurs>\n",
    "            <valutakurs>1</valutakurs>\n",
    "          </valutakurs>\n",
    "        </beloep>\n",
    "      </antattVerdiSomNyttKjoeretoey>\"\"\")\n",
    "sme_dict[\"skattemelding\"][\"boligOgEiendeler\"][\"kjoeretoey\"].update(pris_som_ny)\n",
    "\n",
    "sme_xml = xmltodict.unparse(sme_dict)\n",
    "sme_xml = sme_xml.replace('\\t','').replace('\\n','')\n",
    "sme_xml_fix_base64 = base64.b64encode(sme_xml.encode(\"utf-8\"))\n",
    "sme_xml_fix_base64 = str(sme_xml_fix_base64.decode(\"utf-8\"))\n",
    "\n",
    "#Dette fungerer bare med myndighestfastsatt beløp på 1234567\n",
    "sme_endret_myndighetsfastsetting = sme_xml.replace(\"1234567\",\"7654321\")\n",
    "sme_endret_myndighetsfastsetting_b64 = base64.b64encode(sme_endret_myndighetsfastsetting.encode(\"utf-8\"))\n",
    "sme_endret_myndighetsfastsetting_b64 = str(sme_endret_myndighetsfastsetting_b64.decode(\"utf-8\"))"
   ]
  },
  {
   "cell_type": "code",
   "execution_count": null,
   "metadata": {},
   "outputs": [],
   "source": [
    "pris_som_ny = xmltodict.parse(\"\"\"<antattVerdiSomNyttKjoeretoey>\n",
    "        <beloep>\n",
    "          <beloepINok>\n",
    "            <beloepSomHeltall>12345</beloepSomHeltall>\n",
    "          </beloepINok>\n",
    "          <beloepIValuta>\n",
    "            <beloep>12345</beloep>\n",
    "          </beloepIValuta>\n",
    "          <valutakode>\n",
    "            <valutakode>NOK</valutakode>\n",
    "          </valutakode>\n",
    "          <valutakurs>\n",
    "            <valutakurs>1</valutakurs>\n",
    "          </valutakurs>\n",
    "        </beloep>\n",
    "      </antattVerdiSomNyttKjoeretoey>\"\"\")\n",
    "if sme_dict[\"skattemelding\"][\"boligOgEiendeler\"][\"kjoeretoey\"]:\n",
    "    sme_dict[\"skattemelding\"][\"boligOgEiendeler\"][\"kjoeretoey\"].update(pris_som_ny)\n",
    "\n",
    "sme_xml = xmltodict.unparse(sme_dict)\n",
    "sme_xml = sme_xml.replace('\\t','').replace('\\n','')\n",
    "sme_xml_fix_base64 = base64.b64encode(sme_xml.encode(\"utf-8\"))\n",
    "sme_xml_fix_base64 = str(sme_xml_fix_base64.decode(\"utf-8\"))\n",
    "\n",
    "#Dette fungerer bare med myndighestfastsatt beløp på 1234567\n",
    "sme_endret_myndighetsfastsetting = sme_xml.replace(\"1234567\",\"7654321\")\n",
    "sme_endret_myndighetsfastsetting_b64 = base64.b64encode(sme_endret_myndighetsfastsetting.encode(\"utf-8\"))\n",
    "sme_endret_myndighetsfastsetting_b64 = str(sme_endret_myndighetsfastsetting_b64.decode(\"utf-8\"))"
   ]
  },
  {
   "cell_type": "markdown",
   "metadata": {
    "pycharm": {
     "name": "#%% md\n"
    }
   },
   "source": [
    "## Næring xml\n",
    "Her lager vi to nærings xml, en med en feil beløp i sumDriftsinntekt og en der dette er rettet"
   ]
  },
  {
   "cell_type": "code",
   "execution_count": null,
   "metadata": {},
   "outputs": [],
   "source": [
    "with open(\"../eksempler/Naeringsingopplysninger-ENK-Eksempel2.xml\", 'r') as f:\n",
    "    naering_enk_xml = f.read()\n",
    "\n",
    "naeringsopplysninger_enk_b64 = base64.b64encode(naering_enk_xml.encode(\"utf-8\"))\n",
    "naeringsopplysninger_enk_b64 = str(naeringsopplysninger_enk_b64.decode(\"utf-8\"))\n"
   ]
  },
  {
   "cell_type": "code",
   "execution_count": null,
   "metadata": {},
   "outputs": [],
   "source": [
    "valider_konvolutt = \"\"\"\n",
    "<skattemeldingerOgNaeringsopplysningerRequest xmlns=\"no:skatteetaten:fastsetting:formueinntekt:skattemeldingerognaeringsopplysninger:request:v1\">\n",
    "<dokumenter>\n",
    "    <dokument>\n",
    "        <type>skattemeldingPersonligSkattepliktig</type>\n",
    "        <encoding>utf-8</encoding>\n",
    "        <content>{skattemeldingPersonligSkattepliktig_base64}</content>\n",
    "    </dokument>\n",
    "    <dokument>\n",
    "        <type>naeringsopplysninger</type>\n",
    "        <encoding>utf-8</encoding>\n",
    "        <content>{naeringsopplysninger_base64}</content>\n",
    "    </dokument>\n",
    "</dokumenter>\n",
    "<dokumentreferanseTilGjeldendeDokument>\n",
    "        <dokumenttype>skattemeldingPersonligSkattepliktig</dokumenttype>\n",
    "        <dokumentidentifikator>{dok_ref}</dokumentidentifikator>\n",
    "    </dokumentreferanseTilGjeldendeDokument>\n",
    "</skattemeldingerOgNaeringsopplysningerRequest>\n",
    "\"\"\".replace(\"\\n\",\"\")\n"
   ]
  },
  {
   "cell_type": "code",
   "execution_count": null,
   "metadata": {},
   "outputs": [],
   "source": [
    "naering_enk = valider_konvolutt.format(\n",
    "    skattemeldingPersonligSkattepliktig_base64=sme_utkast_base64, #bruker utkastet uten noen endringer\n",
    "    naeringsopplysninger_base64=naeringsopplysninger_enk_b64,\n",
    "    dok_ref=dokref)"
   ]
  },
  {
   "cell_type": "markdown",
   "metadata": {
    "pycharm": {
     "name": "#%% md\n"
    }
   },
   "source": [
    "# Valider utkast sme med næringsopplysninger med feil sum"
   ]
  },
  {
   "cell_type": "code",
   "execution_count": null,
   "metadata": {},
   "outputs": [],
   "source": [
    "def valider_sme(payload):\n",
    "    url_valider = f'https://mp-test.sits.no/api/eksterntapi/formueinntekt/skattemelding/valider/2020/{fnr}'\n",
    "    header = dict(idporten_header)\n",
    "    header[\"content-type\"] = \"application/xml\"\n",
    "    return s.post(url_valider, headers=header, data=payload)\n",
    "    \n"
   ]
  },
  {
   "cell_type": "code",
   "execution_count": null,
   "metadata": {
    "pycharm": {
     "name": "#%%\n"
    }
   },
   "outputs": [],
   "source": [
    "valider_respons = valider_sme(naering_enk)\n",
    "valider_respons"
   ]
  },
  {
   "cell_type": "code",
   "execution_count": null,
   "metadata": {},
   "outputs": [],
   "source": [
    "#valider_respons.request.body"
   ]
  },
  {
   "cell_type": "markdown",
   "metadata": {
    "pycharm": {
     "name": "#%% md\n"
    }
   },
   "source": [
    "## Valideringsresultat av utkast og næringsoppgave"
   ]
  },
  {
   "cell_type": "code",
   "execution_count": null,
   "metadata": {
    "pycharm": {
     "name": "#%%\n"
    }
   },
   "outputs": [],
   "source": [
    "print(xml.dom.minidom.parseString(valider_respons.text).toprettyxml())"
   ]
  },
  {
   "cell_type": "markdown",
   "metadata": {
    "pycharm": {
     "name": "#%% md\n"
    }
   },
   "source": [
    "## Vis valideringer i SME \n",
    "En kan åpne skattemeldingen og se de samme valideringsresultatene for skattemeldingen\n",
    "https://skatt-ref.sits.no/web/skattemeldingen/2020"
   ]
  },
  {
   "cell_type": "markdown",
   "metadata": {},
   "source": [
    "## Valider sme med fikset bil og sumpost i næring"
   ]
  },
  {
   "cell_type": "code",
   "execution_count": null,
   "metadata": {
    "pycharm": {
     "name": "#%%\n"
    }
   },
   "outputs": [],
   "source": [
    "valider_respons_fix = valider_sme(valider_payload_fix)\n",
    "valider_respons_fix"
   ]
  },
  {
   "cell_type": "code",
   "execution_count": null,
   "metadata": {},
   "outputs": [],
   "source": [
    "valider_respons_fix.request.body"
   ]
  },
  {
   "cell_type": "code",
   "execution_count": null,
   "metadata": {},
   "outputs": [],
   "source": [
    "#valider_respons_fix.text\n",
    "ppxml = xml.dom.minidom.parseString(valider_respons_fix.text).toprettyxml()\n",
    "start = ppxml.find(\"<avvikEtterBeregning>\")\n",
    "slutt = ppxml.find(\"</avvikEtterBeregning>\")  + len(\"</avvikEtterBeregning>\")\n",
    "#print(ppxml[start:slutt])\n",
    "print(ppxml)"
   ]
  },
  {
   "cell_type": "markdown",
   "metadata": {
    "pycharm": {
     "name": "#%% md\n"
    }
   },
   "source": [
    "# Altinn 3"
   ]
  },
  {
   "cell_type": "markdown",
   "metadata": {
    "pycharm": {
     "name": "#%% md\n"
    }
   },
   "source": [
    "## 1. Hent Altinn Token"
   ]
  },
  {
   "cell_type": "code",
   "execution_count": null,
   "metadata": {
    "pycharm": {
     "name": "#%%\n"
    }
   },
   "outputs": [],
   "source": [
    "altinn_header = hent_altinn_token(idporten_header)\n",
    "party_id = hent_party_id(altinn_header)"
   ]
  },
  {
   "cell_type": "markdown",
   "metadata": {},
   "source": [
    "## 2. Opprett ny Instans i Altinn3"
   ]
  },
  {
   "cell_type": "code",
   "execution_count": null,
   "metadata": {},
   "outputs": [],
   "source": [
    "instans_data = opprett_ny_instans(altinn_header, party_id)\n",
    "instans_data"
   ]
  },
  {
   "cell_type": "markdown",
   "metadata": {},
   "source": [
    "## Last opp metadata (skattemelding_V1)"
   ]
  },
  {
   "cell_type": "code",
   "execution_count": null,
   "metadata": {},
   "outputs": [],
   "source": [
    "metadata_xml = \"\"\"\n",
    "<?xml version=\"1.0\" encoding=\"utf-8\"?>\n",
    "<SkattemeldingApp xmlns:xsi=\"http://www.w3.org/2001/XMLSchema-instance\" xmlns:xsd=\"http://www.w3.org/2001/XMLSchema\">\n",
    "    <partsreferanse>str1234</partsreferanse>\n",
    "    <inntektsaar>2020</inntektsaar>\n",
    "    <innsendingstype>Komplett</innsendingstype>\n",
    "    <opprettetAv>TurboSkatt AS..</opprettetAv>\n",
    "    <opprettingstidspunkt>2012-06-03T12:12:12</opprettingstidspunkt>\n",
    "    <endringstidspunkt>2012-06-03T12:12:12</endringstidspunkt>\n",
    "</SkattemeldingApp>\"\"\".replace(\"\\n\",\"\")"
   ]
  },
  {
   "cell_type": "code",
   "execution_count": null,
   "metadata": {
    "pycharm": {
     "name": "#%%\n"
    }
   },
   "outputs": [],
   "source": [
    "req_metadata = last_opp_metadata(instans_data, altinn_header, xml=metadata_xml)\n",
    "req_metadata"
   ]
  },
  {
   "cell_type": "markdown",
   "metadata": {
    "pycharm": {
     "name": "#%% md\n"
    }
   },
   "source": [
    "## Last opp skattemelding"
   ]
  },
  {
   "cell_type": "code",
   "execution_count": null,
   "metadata": {},
   "outputs": [],
   "source": [
    "req_send_inn = last_opp_skattedata(instans_data, altinn_header, xml=valider_payload_fix)\n",
    "req_send_inn"
   ]
  },
  {
   "cell_type": "markdown",
   "metadata": {},
   "source": [
    "### Sett prosses til neste steg - Bekreftelse"
   ]
  },
  {
   "cell_type": "code",
   "execution_count": null,
   "metadata": {},
   "outputs": [],
   "source": [
    "req_bekreftelse = endre_prosess_status(instans_data, altinn_header, \"next\")\n",
    "req_bekreftelse"
   ]
  },
  {
   "cell_type": "markdown",
   "metadata": {},
   "source": [
    "### Sett prosses til neste steg - Tilbakemelding"
   ]
  },
  {
   "cell_type": "code",
   "execution_count": null,
   "metadata": {},
   "outputs": [],
   "source": [
    "req_bekreftelse = endre_prosess_status(instans_data, altinn_header, \"next\")\n",
    "req_bekreftelse"
   ]
  },
  {
   "cell_type": "markdown",
   "metadata": {},
   "source": [
    "### Se innsending i Altinn\n",
    "\n",
    "Ta en slurk av kaffen og klapp deg selv på ryggen, du har nå sendt inn, la byråkratiet gjøre sin ting... og det tar litt tid"
   ]
  },
  {
   "cell_type": "code",
   "execution_count": null,
   "metadata": {
    "pycharm": {
     "name": "#%%\n"
    }
   },
   "outputs": [],
   "source": [
    "instans_id=instans_data['id']\n",
    "url = f'https://skd.apps.tt02.altinn.no/skd/sirius-skattemelding-v1#/instance/{instans_id}'\n",
    "print(url)"
   ]
  }
 ],
 "metadata": {
  "kernelspec": {
   "display_name": "Python 3",
   "language": "python",
   "name": "python3"
  },
  "language_info": {
   "codemirror_mode": {
    "name": "ipython",
    "version": 3
   },
   "file_extension": ".py",
   "mimetype": "text/x-python",
   "name": "python",
   "nbconvert_exporter": "python",
   "pygments_lexer": "ipython3",
   "version": "3.7.6"
  }
 },
 "nbformat": 4,
 "nbformat_minor": 4
}
